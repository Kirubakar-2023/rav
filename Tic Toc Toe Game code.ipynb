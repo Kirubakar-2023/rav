{
 "cells": [
  {
   "cell_type": "code",
   "execution_count": null,
   "id": "dc8bfd8c",
   "metadata": {},
   "outputs": [
    {
     "name": "stdout",
     "output_type": "stream",
     "text": [
      " | | \n",
      "-----\n",
      " | | \n",
      "-----\n",
      " | | \n",
      "Your turn player1\n"
     ]
    }
   ],
   "source": [
    "# Python Programming\n",
    "# Tic Toc Toe game\n",
    "\n",
    "\n",
    "board = [\" \" for i in range(9)]\n",
    "\n",
    "\n",
    "def print_board():\n",
    "    row1 = \"|\".join(board[0:3])\n",
    "    row2 = \"|\".join(board[3:6])\n",
    "    row3 = \"|\".join(board[6:9])\n",
    "    print(row1)\n",
    "    print(\"-\" * 5)\n",
    "    print(row2)\n",
    "    print(\"-\" * 5)\n",
    "    print(row3)\n",
    "\n",
    "\n",
    "def player_move(icon):\n",
    "    if icon == \"X\":\n",
    "        number = 1\n",
    "    elif icon == \"0\":\n",
    "        number = 2\n",
    "    print(\"Your turn player{}\".format(number))\n",
    "    choice = int(input(\"Enter your move (1-9):\").strip())\n",
    "    if board[choice - 1] == \" \":\n",
    "        board[choice - 1] = icon\n",
    "    else:\n",
    "        print(\"That space is taken!\")\n",
    "\n",
    "\n",
    "def is_victory(icon):\n",
    "    if (board[0] == icon and board[1] == icon and board[2] == icon) or \\\n",
    "            (board[3] == icon and board[4] == icon and board[5] == icon) or \\\n",
    "            (board[6] == icon and board[7] == icon and board[8] == icon) or \\\n",
    "            (board[0] == icon and board[3] == icon and board[6] == icon) or \\\n",
    "            (board[1] == icon and board[4] == icon and board[7] == icon) or \\\n",
    "            (board[2] == icon and board[5] == icon and board[8] == icon) or \\\n",
    "            (board[0] == icon and board[4] == icon and board[8] == icon) or \\\n",
    "            (board[2] == icon and board[4] == icon and board[6] == icon):\n",
    "        return True\n",
    "    else:\n",
    "        return False\n",
    "\n",
    "\n",
    "def is_draw():\n",
    "    if \" \" not in board:\n",
    "        return True\n",
    "    else:\n",
    "        return False\n",
    "\n",
    "\n",
    "while True:\n",
    "    print_board()\n",
    "    player_move(\"X\")\n",
    "    if is_victory(\"X\"):\n",
    "        print(\"X Wins! Congratulations!\")\n",
    "        break\n",
    "    elif is_draw():\n",
    "        print(\"It's a draw!\")\n",
    "        break\n",
    "    player_move(\"0\")\n",
    "    if is_victory(\"0\"):\n",
    "        print(\"0 Wins! Congradulations!\")\n",
    "        break\n",
    "    elif is_draw():\n",
    "        print(\"It's a draw!\")\n",
    "        break"
   ]
  },
  {
   "cell_type": "code",
   "execution_count": null,
   "id": "150831a5",
   "metadata": {},
   "outputs": [],
   "source": []
  }
 ],
 "metadata": {
  "kernelspec": {
   "display_name": "Python 3 (ipykernel)",
   "language": "python",
   "name": "python3"
  },
  "language_info": {
   "codemirror_mode": {
    "name": "ipython",
    "version": 3
   },
   "file_extension": ".py",
   "mimetype": "text/x-python",
   "name": "python",
   "nbconvert_exporter": "python",
   "pygments_lexer": "ipython3",
   "version": "3.10.5"
  }
 },
 "nbformat": 4,
 "nbformat_minor": 5
}
